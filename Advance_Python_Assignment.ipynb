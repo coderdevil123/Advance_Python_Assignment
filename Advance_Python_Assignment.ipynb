{
  "cells": [
    {
      "cell_type": "markdown",
      "metadata": {
        "id": "view-in-github",
        "colab_type": "text"
      },
      "source": [
        "<a href=\"https://colab.research.google.com/github/coderdevil123/Advance_Python_Assignment/blob/main/Advance_Python_Assignment.ipynb\" target=\"_parent\"><img src=\"https://colab.research.google.com/assets/colab-badge.svg\" alt=\"Open In Colab\"/></a>"
      ]
    },
    {
      "cell_type": "code",
      "execution_count": null,
      "metadata": {
        "id": "280yAR84or7b"
      },
      "outputs": [],
      "source": [
        "import random, string\n",
        "\n",
        "with open(\"file_1000_lines.txt\", \"w\") as f:\n",
        "    for _ in range(1000):\n",
        "        rand_str = ''.join(random.choices(string.ascii_letters + string.digits, k=50))\n",
        "        f.write(rand_str + \"\\n\")\n"
      ]
    },
    {
      "cell_type": "code",
      "execution_count": null,
      "metadata": {
        "id": "Ob91DZ_2pJiC"
      },
      "outputs": [],
      "source": [
        "def generate_file(filename, size_in_mb):\n",
        "    with open(filename, 'w') as f:\n",
        "        while f.tell() < size_in_mb * 1024 * 1024:\n",
        "            f.write(''.join(random.choices(string.ascii_letters + string.digits, k=100)) + '\\n')\n",
        "\n",
        "generate_file(\"5MB_file.txt\", 5)\n"
      ]
    },
    {
      "cell_type": "code",
      "execution_count": null,
      "metadata": {
        "id": "e0XfqnqvpaA6"
      },
      "outputs": [],
      "source": [
        "for i in range(10):\n",
        "    generate_file(f\"5MB_file_{i+1}.txt\", 5)\n"
      ]
    },
    {
      "cell_type": "code",
      "execution_count": null,
      "metadata": {
        "id": "CuFAOHY7pipB"
      },
      "outputs": [],
      "source": [
        "sizes = [1, 2, 3, 4, 5]\n",
        "for size in sizes:\n",
        "    generate_file(f\"{size}GB_file.txt\", size * 1024)\n"
      ]
    },
    {
      "cell_type": "code",
      "execution_count": null,
      "metadata": {
        "id": "k9M33Z-1pgGN"
      },
      "outputs": [],
      "source": [
        "for size in sizes:\n",
        "    fname = f\"{size}GB_file.txt\"\n",
        "    with open(fname, \"r\") as f:\n",
        "        data = f.read().upper()\n",
        "    with open(fname, \"w\") as f:\n",
        "        f.write(data)\n"
      ]
    },
    {
      "cell_type": "code",
      "execution_count": null,
      "metadata": {
        "id": "rXhT9JAkprl8"
      },
      "outputs": [],
      "source": [
        "from threading import Thread\n",
        "\n",
        "def convert_upper(fname):\n",
        "    with open(fname, \"r\") as f:\n",
        "        data = f.read().upper()\n",
        "    with open(fname, \"w\") as f:\n",
        "        f.write(data)\n",
        "\n",
        "threads = []\n",
        "for size in sizes:\n",
        "    fname = f\"{size}GB_file.txt\"\n",
        "    t = Thread(target=convert_upper, args=(fname,))\n",
        "    t.start()\n",
        "    threads.append(t)\n",
        "\n",
        "for t in threads:\n",
        "    t.join()\n"
      ]
    },
    {
      "cell_type": "code",
      "source": [
        "from icrawler.builtin import GoogleImageCrawler\n",
        "\n",
        "crawler = GoogleImageCrawler(storage={\"root_dir\": \"q7_cat_images\"})\n",
        "crawler.crawl(keyword=\"cat\", max_num=10)\n"
      ],
      "metadata": {
        "id": "IVhycvZY5UOp"
      },
      "execution_count": null,
      "outputs": []
    },
    {
      "cell_type": "code",
      "source": [
        "from pytube import Search\n",
        "\n",
        "search = Search(\"Machine Learning\")\n",
        "results = search.results[:10]\n",
        "\n",
        "for i, video in enumerate(results):\n",
        "    video.streams.get_highest_resolution().download(output_path=\"q8_videos\", filename=f\"ml_video_{i+1}.mp4\")\n"
      ],
      "metadata": {
        "id": "8rf1pEbM5wEJ"
      },
      "execution_count": null,
      "outputs": []
    },
    {
      "cell_type": "code",
      "source": [
        "from moviepy.editor import VideoFileClip\n",
        "import os\n",
        "\n",
        "input_folder = \"q8_videos\"\n",
        "output_folder = \"q9_audio\"\n",
        "\n",
        "os.makedirs(output_folder, exist_ok=True)\n",
        "\n",
        "for file in os.listdir(input_folder):\n",
        "    if file.endswith(\".mp4\"):\n",
        "        video = VideoFileClip(os.path.join(input_folder, file))\n",
        "        audio_file = os.path.join(output_folder, file.replace(\".mp4\", \".mp3\"))\n",
        "        video.audio.write_audiofile(audio_file)\n"
      ],
      "metadata": {
        "id": "PV6OBkqB5xP6"
      },
      "execution_count": null,
      "outputs": []
    },
    {
      "cell_type": "code",
      "source": [
        "from concurrent.futures import ThreadPoolExecutor\n",
        "\n",
        "def download_and_convert(video):\n",
        "    title = video.title.replace(\" \", \"_\")\n",
        "    path = f\"q10_videos/{title}.mp4\"\n",
        "    video.streams.get_audio_only().download(output_path=\"q10_videos\", filename=title)\n",
        "    audio = VideoFileClip(path).audio\n",
        "    audio.write_audiofile(f\"q10_audio/{title}.mp3\")\n",
        "\n",
        "search = Search(\"AI Tutorials\")\n",
        "videos = search.results[:100]\n",
        "\n",
        "os.makedirs(\"q10_videos\", exist_ok=True)\n",
        "os.makedirs(\"q10_audio\", exist_ok=True)\n",
        "\n",
        "with ThreadPoolExecutor(max_workers=5) as executor:\n",
        "    executor.map(download_and_convert, videos)\n"
      ],
      "metadata": {
        "id": "X8mjGq-054Yb"
      },
      "execution_count": null,
      "outputs": []
    },
    {
      "cell_type": "code",
      "source": [
        "from PIL import Image\n",
        "\n",
        "crawler = GoogleImageCrawler(storage={\"root_dir\": \"q11_dogs\"})\n",
        "crawler.crawl(keyword=\"dog\", max_num=500)\n",
        "\n",
        "input_dir = \"q11_dogs\"\n",
        "output_dir = \"q11_dogs_rescaled\"\n",
        "os.makedirs(output_dir, exist_ok=True)\n",
        "\n",
        "for file in os.listdir(input_dir):\n",
        "    path = os.path.join(input_dir, file)\n",
        "    if path.lower().endswith(('.jpg', '.jpeg', '.png')):\n",
        "        img = Image.open(path)\n",
        "        img = img.resize((img.width // 2, img.height // 2))\n",
        "        img.save(os.path.join(output_dir, file))\n"
      ],
      "metadata": {
        "id": "RUwH92yT56-Q"
      },
      "execution_count": null,
      "outputs": []
    },
    {
      "cell_type": "code",
      "source": [
        "import pandas as pd\n",
        "import numpy as np\n",
        "import seaborn as sns\n",
        "import matplotlib.pyplot as plt\n",
        "\n",
        "df = pd.DataFrame(np.random.randint(1, 201, size=(100, 30)))\n",
        "\n",
        "# (i) Replace [10,60] with NA, count rows with NA\n",
        "df = df.mask(df.between(10, 60))\n",
        "na_rows = df.isnull().any(axis=1).sum()\n",
        "print(f\"Rows with NA: {na_rows}\")\n",
        "\n",
        "# (ii) Replace NA with column mean\n",
        "df = df.fillna(df.mean())\n",
        "\n",
        "# (iii) Pearson correlation and heatmap\n",
        "corr = df.corr()\n",
        "sns.heatmap(corr)\n",
        "plt.title(\"Correlation Heatmap\")\n",
        "plt.show()\n",
        "\n",
        "# Select columns with corr <= 0.7 (against all others)\n",
        "selected_cols = corr.columns[(corr.abs() <= 0.7).any()]\n",
        "print(\"Columns with correlation <= 0.7:\", list(selected_cols))\n",
        "\n",
        "# (iv) Normalize to [0, 10]\n",
        "df_norm = (df - df.min()) / (df.max() - df.min()) * 10\n",
        "\n",
        "# (v) Replace values with 1 if <=0.5 else 0\n",
        "df_bin = (df_norm <= 0.5).astype(int)\n"
      ],
      "metadata": {
        "id": "3ULEX0LJ6DJO"
      },
      "execution_count": null,
      "outputs": []
    },
    {
      "cell_type": "code",
      "source": [
        "df14 = pd.DataFrame(np.random.uniform(-100, 100, size=(600, 15)))\n",
        "\n",
        "# (i) Scatter between Column 5 & 6\n",
        "plt.scatter(df14[4], df14[5])\n",
        "plt.xlabel(\"Column 5\")\n",
        "plt.ylabel(\"Column 6\")\n",
        "plt.title(\"Scatter Plot\")\n",
        "plt.show()\n",
        "\n",
        "# (ii) Histogram for all columns\n",
        "df14.hist(figsize=(12, 8), bins=20)\n",
        "plt.suptitle(\"Histograms of All Columns\")\n",
        "plt.tight_layout()\n",
        "plt.show()\n",
        "\n",
        "# (iii) Box plot for all columns\n",
        "df14.boxplot(figsize=(12, 6))\n",
        "plt.title(\"Box Plot of All Columns\")\n",
        "plt.show()\n"
      ],
      "metadata": {
        "id": "d4UnJSzq6cA5"
      },
      "execution_count": null,
      "outputs": []
    }
  ],
  "metadata": {
    "colab": {
      "provenance": [],
      "authorship_tag": "ABX9TyPb5HENhArwzZ0Vw+iIPsEF",
      "include_colab_link": true
    },
    "kernelspec": {
      "display_name": "Python 3",
      "name": "python3"
    },
    "language_info": {
      "name": "python"
    }
  },
  "nbformat": 4,
  "nbformat_minor": 0
}